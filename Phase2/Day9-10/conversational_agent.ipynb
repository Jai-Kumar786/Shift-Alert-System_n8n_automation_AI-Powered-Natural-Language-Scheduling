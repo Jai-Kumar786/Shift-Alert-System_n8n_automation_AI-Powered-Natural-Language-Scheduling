{
 "cells": [
  {
   "cell_type": "code",
   "id": "initial_id",
   "metadata": {
    "collapsed": true,
    "ExecuteTime": {
     "end_time": "2025-10-24T14:52:37.639783Z",
     "start_time": "2025-10-24T14:52:36.740569Z"
    }
   },
   "source": [
    "# conversational_agent.py\n",
    "from langchain.llms import Ollama\n",
    "from langchain.prompts import PromptTemplate\n",
    "from langchain.chains import ConversationChain\n",
    "from langchain.memory import ConversationBufferMemory\n",
    "import datetime\n",
    "\n",
    "# Initialize Ollama with Phi-3\n",
    "llm = Ollama(\n",
    "    model=\"phi3\",\n",
    "    temperature=0.7\n",
    ")\n",
    "\n",
    "print(\"✅ Libraries imported successfully!\")\n"
   ],
   "outputs": [
    {
     "name": "stderr",
     "output_type": "stream",
     "text": [
      "C:\\Users\\jaiku\\anaconda3\\envs\\shift_ai_env\\lib\\site-packages\\requests\\__init__.py:86: RequestsDependencyWarning: Unable to find acceptable character detection dependency (chardet or charset_normalizer).\n",
      "  warnings.warn(\n"
     ]
    },
    {
     "name": "stdout",
     "output_type": "stream",
     "text": [
      "✅ Libraries imported successfully!\n"
     ]
    }
   ],
   "execution_count": 1
  },
  {
   "metadata": {
    "ExecuteTime": {
     "end_time": "2025-10-24T14:53:03.309878Z",
     "start_time": "2025-10-24T14:53:03.297289Z"
    }
   },
   "cell_type": "code",
   "source": [
    "# Define the scheduling assistant persona\n",
    "system_prompt = \"\"\"You are a helpful and efficient scheduling assistant for an intern management system.\n",
    "\n",
    "Your primary goal is to gather all necessary information to schedule a shift:\n",
    "- Date (which day?)\n",
    "- Start time (what time does it start?)\n",
    "- End time (what time does it end?)\n",
    "\n",
    "Be friendly, professional, and clear in your communication.\n",
    "Ask ONE question at a time.\n",
    "Do not perform any other tasks.\n",
    "\n",
    "Today's date is: {current_date}\n",
    "\n",
    "Example conversation:\n",
    "User: I need to book a shift\n",
    "Assistant: Of course! I'd be happy to help. What day would you like to schedule the shift?\n",
    "User: Tomorrow\n",
    "Assistant: Great! What time does the shift start?\n",
    "User: 10am\n",
    "Assistant: Perfect. And what time does it end?\n",
    "User: 2pm\n",
    "Assistant: Excellent! I have all the information. Shift scheduled for tomorrow from 10:00 AM to 2:00 PM.\n",
    "\"\"\"\n",
    "\n",
    "# Get today's date for context\n",
    "current_date = datetime.datetime.now().strftime(\"%A, %B %d, %Y\")\n",
    "print(f\"📅 Current date: {current_date}\")\n"
   ],
   "id": "2696a0383d5bb9f7",
   "outputs": [
    {
     "name": "stdout",
     "output_type": "stream",
     "text": [
      "📅 Current date: Friday, October 24, 2025\n"
     ]
    }
   ],
   "execution_count": 2
  },
  {
   "metadata": {
    "ExecuteTime": {
     "end_time": "2025-10-24T14:53:17.083186Z",
     "start_time": "2025-10-24T14:53:17.069027Z"
    }
   },
   "cell_type": "code",
   "source": [
    "# Create conversation memory\n",
    "memory = ConversationBufferMemory(\n",
    "    memory_key=\"chat_history\",    # Key to store history\n",
    "    return_messages=True,          # Return as message format\n",
    "    ai_prefix=\"Assistant\",         # AI speaker name\n",
    "    human_prefix=\"User\"            # Human speaker name\n",
    ")\n",
    "\n",
    "print(\"✅ Memory initialized!\")\n"
   ],
   "id": "98b88468d4fc179d",
   "outputs": [
    {
     "name": "stdout",
     "output_type": "stream",
     "text": [
      "✅ Memory initialized!\n"
     ]
    }
   ],
   "execution_count": 3
  },
  {
   "metadata": {
    "ExecuteTime": {
     "end_time": "2025-10-24T14:58:11.591765Z",
     "start_time": "2025-10-24T14:58:11.578329Z"
    }
   },
   "cell_type": "code",
   "source": [
    "# Create prompt with partial_variables\n",
    "prompt = PromptTemplate(\n",
    "    input_variables=[\"chat_history\", \"input\"],  # Only these two\n",
    "    partial_variables={\"current_date\": current_date},  # Add this\n",
    "    template=system_prompt + \"\"\"\n",
    "Current conversation:\n",
    "{chat_history}\n",
    "User: {input}\n",
    "Assistant:\"\"\"\n",
    ")"
   ],
   "id": "271ecd6b0d168932",
   "outputs": [],
   "execution_count": 7
  },
  {
   "metadata": {
    "ExecuteTime": {
     "end_time": "2025-10-24T14:58:15.970350Z",
     "start_time": "2025-10-24T14:58:15.952902Z"
    }
   },
   "cell_type": "code",
   "source": [
    "# Create the conversation chain\n",
    "conversation = ConversationChain(\n",
    "    llm=llm,\n",
    "    memory=memory,\n",
    "    prompt=prompt,\n",
    "    verbose=True  # Shows what's happening behind the scenes\n",
    ")\n",
    "\n",
    "print(\"✅ Conversational agent ready!\")\n"
   ],
   "id": "f7ae5d6e50d8a181",
   "outputs": [
    {
     "name": "stdout",
     "output_type": "stream",
     "text": [
      "✅ Conversational agent ready!\n"
     ]
    }
   ],
   "execution_count": 8
  },
  {
   "metadata": {
    "ExecuteTime": {
     "end_time": "2025-10-24T15:01:14.051978Z",
     "start_time": "2025-10-24T14:58:32.949152Z"
    }
   },
   "cell_type": "code",
   "source": [
    "def chat_with_agent():\n",
    "    \"\"\"Interactive chat interface\"\"\"\n",
    "    print(\"\\n\" + \"=\"*60)\n",
    "    print(\"🤖 Scheduling Assistant Ready!\")\n",
    "    print(\"=\"*60)\n",
    "    print(\"Type 'quit' or 'exit' to end the conversation\\n\")\n",
    "    \n",
    "    while True:\n",
    "        # Get user input\n",
    "        user_input = input(\"👤 You: \").strip()\n",
    "        \n",
    "        # Check for exit command\n",
    "        if user_input.lower() in ['quit', 'exit', 'bye']:\n",
    "            print(\"\\n🤖 Assistant: Thank you! Have a great day!\")\n",
    "            break\n",
    "        \n",
    "        # Skip empty inputs\n",
    "        if not user_input:\n",
    "            continue\n",
    "        \n",
    "        try:\n",
    "            # Get response from agent\n",
    "            response = conversation.predict(\n",
    "                input=user_input,\n",
    "                current_date=current_date\n",
    "            )\n",
    "            \n",
    "            print(f\"\\n🤖 Assistant: {response}\\n\")\n",
    "            \n",
    "        except Exception as e:\n",
    "            print(f\"❌ Error: {e}\")\n",
    "            print(\"Please try again.\\n\")\n",
    "\n",
    "# Start the chat\n",
    "if __name__ == \"__main__\":\n",
    "    chat_with_agent()\n"
   ],
   "id": "ecf8c8d711a076cc",
   "outputs": [
    {
     "name": "stdout",
     "output_type": "stream",
     "text": [
      "\n",
      "============================================================\n",
      "🤖 Scheduling Assistant Ready!\n",
      "============================================================\n",
      "Type 'quit' or 'exit' to end the conversation\n",
      "\n",
      "\n",
      "\n",
      "\u001B[1m> Entering new ConversationChain chain...\u001B[0m\n",
      "Prompt after formatting:\n",
      "\u001B[32;1m\u001B[1;3mYou are a helpful and efficient scheduling assistant for an intern management system.\n",
      "\n",
      "Your primary goal is to gather all necessary information to schedule a shift:\n",
      "- Date (which day?)\n",
      "- Start time (what time does it start?)\n",
      "- End time (what time does it end?)\n",
      "\n",
      "Be friendly, professional, and clear in your communication.\n",
      "Ask ONE question at a time.\n",
      "Do not perform any other tasks.\n",
      "\n",
      "Today's date is: Friday, October 24, 2025\n",
      "\n",
      "Example conversation:\n",
      "User: I need to book a shift\n",
      "Assistant: Of course! I'd be happy to help. What day would you like to schedule the shift?\n",
      "User: Tomorrow\n",
      "Assistant: Great! What time does the shift start?\n",
      "User: 10am\n",
      "Assistant: Perfect. And what time does it end?\n",
      "User: 2pm\n",
      "Assistant: Excellent! I have all the information. Shift scheduled for tomorrow from 10:00 AM to 2:00 PM.\n",
      "\n",
      "Current conversation:\n",
      "[]\n",
      "User: I need to schedule a shift\n",
      "Assistant:\u001B[0m\n",
      "❌ Error: One input key expected got ['input', 'current_date']\n",
      "Please try again.\n",
      "\n",
      "\n",
      "\n",
      "\u001B[1m> Entering new ConversationChain chain...\u001B[0m\n",
      "Prompt after formatting:\n",
      "\u001B[32;1m\u001B[1;3mYou are a helpful and efficient scheduling assistant for an intern management system.\n",
      "\n",
      "Your primary goal is to gather all necessary information to schedule a shift:\n",
      "- Date (which day?)\n",
      "- Start time (what time does it start?)\n",
      "- End time (what time does it end?)\n",
      "\n",
      "Be friendly, professional, and clear in your communication.\n",
      "Ask ONE question at a time.\n",
      "Do not perform any other tasks.\n",
      "\n",
      "Today's date is: Friday, October 24, 2025\n",
      "\n",
      "Example conversation:\n",
      "User: I need to book a shift\n",
      "Assistant: Of course! I'd be happy to help. What day would you like to schedule the shift?\n",
      "User: Tomorrow\n",
      "Assistant: Great! What time does the shift start?\n",
      "User: 10am\n",
      "Assistant: Perfect. And what time does it end?\n",
      "User: 2pm\n",
      "Assistant: Excellent! I have all the information. Shift scheduled for tomorrow from 10:00 AM to 2:00 PM.\n",
      "\n",
      "Current conversation:\n",
      "[]\n",
      "User: Tomorrow\n",
      "Assistant:\u001B[0m\n",
      "❌ Error: One input key expected got ['input', 'current_date']\n",
      "Please try again.\n",
      "\n",
      "\n",
      "🤖 Assistant: Thank you! Have a great day!\n"
     ]
    }
   ],
   "execution_count": 9
  },
  {
   "metadata": {
    "ExecuteTime": {
     "end_time": "2025-10-24T15:01:30.319782Z",
     "start_time": "2025-10-24T15:01:30.301795Z"
    }
   },
   "cell_type": "code",
   "source": [
    "def inspect_memory():\n",
    "    \"\"\"View what's stored in memory\"\"\"\n",
    "    print(\"\\n\" + \"=\"*60)\n",
    "    print(\"📝 Memory Contents:\")\n",
    "    print(\"=\"*60)\n",
    "    \n",
    "    # Get memory buffer\n",
    "    memory_content = memory.load_memory_variables({})\n",
    "    \n",
    "    print(memory_content['chat_history'])\n",
    "    print(\"=\"*60 + \"\\n\")\n",
    "\n",
    "# Call after conversation\n",
    "inspect_memory()\n"
   ],
   "id": "8e13e7cefa0750e3",
   "outputs": [
    {
     "name": "stdout",
     "output_type": "stream",
     "text": [
      "\n",
      "============================================================\n",
      "📝 Memory Contents:\n",
      "============================================================\n",
      "[]\n",
      "============================================================\n",
      "\n"
     ]
    }
   ],
   "execution_count": 10
  },
  {
   "metadata": {},
   "cell_type": "code",
   "outputs": [],
   "execution_count": null,
   "source": "",
   "id": "4a52f1f66d7baa2e"
  }
 ],
 "metadata": {
  "kernelspec": {
   "display_name": "Python 3",
   "language": "python",
   "name": "python3"
  },
  "language_info": {
   "codemirror_mode": {
    "name": "ipython",
    "version": 2
   },
   "file_extension": ".py",
   "mimetype": "text/x-python",
   "name": "python",
   "nbconvert_exporter": "python",
   "pygments_lexer": "ipython2",
   "version": "2.7.6"
  }
 },
 "nbformat": 4,
 "nbformat_minor": 5
}
