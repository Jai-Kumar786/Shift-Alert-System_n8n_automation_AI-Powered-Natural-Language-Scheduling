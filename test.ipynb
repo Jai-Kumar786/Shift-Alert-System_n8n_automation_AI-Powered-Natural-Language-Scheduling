{
 "cells": [
  {
   "cell_type": "code",
   "id": "initial_id",
   "metadata": {
    "collapsed": true,
    "ExecuteTime": {
     "end_time": "2025-10-23T20:21:25.199492Z",
     "start_time": "2025-10-23T20:21:12.340913Z"
    }
   },
   "source": [
    "from langchain.llms import Ollama\n",
    "from langchain.prompts import PromptTemplate\n",
    "from langchain.chains import LLMChain\n",
    "\n",
    "# Initialize Phi-3 via Ollama (runs on CPU automatically)\n",
    "llm = Ollama(\n",
    "    model=\"phi3\",\n",
    "    temperature=0.8\n",
    ")\n",
    "\n",
    "# Create scheduling assistant prompt\n",
    "prompt = PromptTemplate(\n",
    "    input_variables=[\"user_message\"],\n",
    "    template=\"\"\"You are a helpful scheduling assistant for an intern management system.\n",
    "\n",
    "User says: {user_message}\n",
    "\n",
    "Respond naturally. If the user wants to schedule a shift, ask for:\n",
    "- Date (which day?)\n",
    "- Start time\n",
    "- End time\n",
    "\n",
    "Keep responses under 50 words.\"\"\"\n",
    ")\n",
    "\n",
    "# Create LangChain chain\n",
    "chain = LLMChain(llm=llm, prompt=prompt)\n",
    "\n",
    "# Test conversations\n",
    "test_queries = [\n",
    "    \"I want to schedule a shift\",\n",
    "    \"Can I work tomorrow?\",\n",
    "    \"Book me for next Monday 10am to 2pm\"\n",
    "]\n",
    "\n",
    "print(\"🤖 Testing Scheduling Agent (CPU-powered by Phi-3)\\n\")\n",
    "for query in test_queries:\n",
    "    print(f\"👤 User: {query}\")\n",
    "    response = chain.invoke({\"user_message\": query})\n",
    "    print(f\"🤖 AI: {response['text']}\\n\")\n"
   ],
   "outputs": [
    {
     "name": "stderr",
     "output_type": "stream",
     "text": [
      "C:\\Users\\jaiku\\anaconda3\\envs\\shift_ai_env\\lib\\site-packages\\requests\\__init__.py:86: RequestsDependencyWarning: Unable to find acceptable character detection dependency (chardet or charset_normalizer).\n",
      "  warnings.warn(\n",
      "C:\\Users\\jaiku\\anaconda3\\envs\\shift_ai_env\\lib\\site-packages\\langchain_core\\_api\\deprecation.py:119: LangChainDeprecationWarning: The class `LLMChain` was deprecated in LangChain 0.1.17 and will be removed in 0.3.0. Use RunnableSequence, e.g., `prompt | llm` instead.\n",
      "  warn_deprecated(\n"
     ]
    },
    {
     "name": "stdout",
     "output_type": "stream",
     "text": [
      "🤖 Testing Scheduling Agent (CPU-powered by Phi-3)\n",
      "\n",
      "👤 User: I want to schedule a shift\n",
      "🤖 AI: \"Great! To help you find your ideal workday in our system, could you please specify which date and times would suit you best?\"\n",
      "\n",
      "👤 User: Can I work tomorrow?\n",
      "🤖 AI: I'm sorry, but we need to check with your team leader first before confirming tomorrow’th work availability as an intern. Could you please provide the date and times if this becomes possible? If not, I can look into alternative dates for you. Would that help?\n",
      "\n",
      "👤 User: Book me for next Monday 10am to 2pm\n",
      "🤖 AI: \"I've scheduled your internship session for next Monday starting at 10am and ending at 2pm.\" If you have any specific requests or changes, just let me know!\n",
      "\n"
     ]
    }
   ],
   "execution_count": 1
  },
  {
   "metadata": {},
   "cell_type": "code",
   "outputs": [],
   "execution_count": null,
   "source": "",
   "id": "c91636d6af8ff868"
  }
 ],
 "metadata": {
  "kernelspec": {
   "display_name": "Python 3",
   "language": "python",
   "name": "python3"
  },
  "language_info": {
   "codemirror_mode": {
    "name": "ipython",
    "version": 2
   },
   "file_extension": ".py",
   "mimetype": "text/x-python",
   "name": "python",
   "nbconvert_exporter": "python",
   "pygments_lexer": "ipython2",
   "version": "2.7.6"
  }
 },
 "nbformat": 4,
 "nbformat_minor": 5
}
